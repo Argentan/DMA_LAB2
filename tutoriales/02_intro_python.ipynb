{
  "nbformat": 4,
  "nbformat_minor": 0,
  "metadata": {
    "kernelspec": {
      "display_name": "Python 3",
      "language": "python",
      "name": "python3"
    },
    "language_info": {
      "codemirror_mode": {
        "name": "ipython",
        "version": 3
      },
      "file_extension": ".py",
      "mimetype": "text/x-python",
      "name": "python",
      "nbconvert_exporter": "python",
      "pygments_lexer": "ipython3",
      "version": "3.7.3-final"
    },
    "colab": {
      "name": "02_intro_python.ipynb",
      "provenance": [],
      "include_colab_link": true
    }
  },
  "cells": [
    {
      "cell_type": "markdown",
      "metadata": {
        "id": "view-in-github",
        "colab_type": "text"
      },
      "source": [
        "<a href=\"https://colab.research.google.com/github/Argentan/DMA_LAB2/blob/master/tutoriales/02_intro_python.ipynb\" target=\"_parent\"><img src=\"https://colab.research.google.com/assets/colab-badge.svg\" alt=\"Open In Colab\"/></a>"
      ]
    },
    {
      "cell_type": "markdown",
      "metadata": {
        "id": "e-KEplDxcwVo",
        "colab_type": "text"
      },
      "source": [
        "# Breve Introducción a Python\n",
        "\n",
        "Python es un lenguaje interpretado de tipos dinámicos. A diferencia de R, por ejemplo, es un lenguaje de uso general y su capacidad para las ciencias de datos no viene dada desde sus librerías internas sino por los módulos externos. Se puede usar en forma imperativa u orientada a objetos; teóricamente también dentro del paradigma de programación funcional, pero con ciertas limitaciones (existen límites para ejecución recursiva, por ejemplo).\n",
        "\n",
        "Python puro tiende a ser lento (para ejecutar, rápido para escribir), por tener tipos dinámicos y por el GIL. Sin embargo, el intérprete más comúnmente usado (CPytyhon) esta implementado en C y permite la integración de módulos externos de C, C++ y Fortran que, bien utilizados, permiten la aceleración de las partes claves de un programa. \n",
        "\n",
        "Desde lo estético, Python reemplaza las llaves por indentaciones, cosa que fuerza un código más leíble. Por lo demás, existe toda una \"filosofía\" de lo que es \"pythonico\", en términos de prolijidad, funcionalidad y belleza del código."
      ]
    },
    {
      "cell_type": "code",
      "metadata": {
        "id": "mN0WP8aVcwVq",
        "colab_type": "code",
        "colab": {
          "base_uri": "https://localhost:8080/",
          "height": 370
        },
        "outputId": "5ddd3a9d-0284-4360-b554-37f8248f23ce"
      },
      "source": [
        "import this"
      ],
      "execution_count": null,
      "outputs": [
        {
          "output_type": "stream",
          "text": [
            "The Zen of Python, by Tim Peters\n",
            "\n",
            "Beautiful is better than ugly.\n",
            "Explicit is better than implicit.\n",
            "Simple is better than complex.\n",
            "Complex is better than complicated.\n",
            "Flat is better than nested.\n",
            "Sparse is better than dense.\n",
            "Readability counts.\n",
            "Special cases aren't special enough to break the rules.\n",
            "Although practicality beats purity.\n",
            "Errors should never pass silently.\n",
            "Unless explicitly silenced.\n",
            "In the face of ambiguity, refuse the temptation to guess.\n",
            "There should be one-- and preferably only one --obvious way to do it.\n",
            "Although that way may not be obvious at first unless you're Dutch.\n",
            "Now is better than never.\n",
            "Although never is often better than *right* now.\n",
            "If the implementation is hard to explain, it's a bad idea.\n",
            "If the implementation is easy to explain, it may be a good idea.\n",
            "Namespaces are one honking great idea -- let's do more of those!\n"
          ],
          "name": "stdout"
        }
      ]
    },
    {
      "cell_type": "markdown",
      "metadata": {
        "id": "g53olKCkcwVw",
        "colab_type": "text"
      },
      "source": [
        "## Operaciones Básicas\n",
        "\n",
        "\n",
        "| Operador  | Operación                        | Ejemplo         |\n",
        "| --------- | -------------------------------- | --------------- |\n",
        "| **        | Potencia                         | `2 ** 3 = 8`    |\n",
        "| %         | Resto                            | `22 % 8 = 6`    |\n",
        "| //        | División de enteros              | `22 // 8 = 2`   |\n",
        "| /         | Division normal                  | `22 / 8 = 2.75` |\n",
        "| *         | Multiplicación                   | `3 * 3 = 9`     |\n",
        "| -         | Resta                            | `5 - 2 = 3`     |\n",
        "| +         | Suma         | `2 + 2 = 4`     |"
      ]
    },
    {
      "cell_type": "code",
      "metadata": {
        "id": "ms0eoeBhcwVx",
        "colab_type": "code",
        "colab": {
          "base_uri": "https://localhost:8080/",
          "height": 34
        },
        "outputId": "c1091af0-28fd-4e82-aa7d-c87cbc50c9d2"
      },
      "source": [
        "22 / 8"
      ],
      "execution_count": null,
      "outputs": [
        {
          "output_type": "execute_result",
          "data": {
            "text/plain": [
              "2.75"
            ]
          },
          "metadata": {
            "tags": []
          },
          "execution_count": 2
        }
      ]
    },
    {
      "cell_type": "code",
      "metadata": {
        "id": "7irUOkxzcwV1",
        "colab_type": "code",
        "colab": {
          "base_uri": "https://localhost:8080/",
          "height": 34
        },
        "outputId": "b8b2f66c-b18c-4d8f-c768-4797b4a10ae4"
      },
      "source": [
        "22 // 8, 22 % 8"
      ],
      "execution_count": null,
      "outputs": [
        {
          "output_type": "execute_result",
          "data": {
            "text/plain": [
              "(2, 6)"
            ]
          },
          "metadata": {
            "tags": []
          },
          "execution_count": 3
        }
      ]
    },
    {
      "cell_type": "markdown",
      "metadata": {
        "id": "jljwXZSCcwV4",
        "colab_type": "text"
      },
      "source": [
        "## Variables\n",
        "\n",
        "Las variables se asignan con el signo igual =, y su nombre sólo se pueden usar letras, números y guió bajo (_), no se pueden usar espacios y tampoco pueden empezar con un número"
      ]
    },
    {
      "cell_type": "code",
      "metadata": {
        "id": "HNsQEozZcwV5",
        "colab_type": "code",
        "colab": {
          "base_uri": "https://localhost:8080/",
          "height": 128
        },
        "outputId": "c39a2f43-ef04-410d-abe0-55784140dfd8"
      },
      "source": [
        "123var = 123"
      ],
      "execution_count": null,
      "outputs": [
        {
          "output_type": "error",
          "ename": "SyntaxError",
          "evalue": "ignored",
          "traceback": [
            "\u001b[0;36m  File \u001b[0;32m\"<ipython-input-4-83c31c4f381e>\"\u001b[0;36m, line \u001b[0;32m1\u001b[0m\n\u001b[0;31m    123var = 123\u001b[0m\n\u001b[0m         ^\u001b[0m\n\u001b[0;31mSyntaxError\u001b[0m\u001b[0;31m:\u001b[0m invalid syntax\n"
          ]
        }
      ]
    },
    {
      "cell_type": "code",
      "metadata": {
        "id": "tqwMGxo_cwV8",
        "colab_type": "code",
        "colab": {}
      },
      "source": [
        "var = 123"
      ],
      "execution_count": null,
      "outputs": []
    },
    {
      "cell_type": "code",
      "metadata": {
        "id": "KRuyTzD2mcw-",
        "colab_type": "code",
        "colab": {
          "base_uri": "https://localhost:8080/",
          "height": 34
        },
        "outputId": "5ab746fe-9d10-4909-ae36-ad7541ce9286"
      },
      "source": [
        "type(var)"
      ],
      "execution_count": null,
      "outputs": [
        {
          "output_type": "execute_result",
          "data": {
            "text/plain": [
              "int"
            ]
          },
          "metadata": {
            "tags": []
          },
          "execution_count": 6
        }
      ]
    },
    {
      "cell_type": "markdown",
      "metadata": {
        "id": "8AVi0fqtcwWB",
        "colab_type": "text"
      },
      "source": [
        "## Tipos Básicos de Datos\n",
        "\n",
        "\n",
        "| Tipo  | Ejemplo\n",
        "| --------- | --------------- |\n",
        "| Lógico    | True, False| \n",
        "| Entero    | 1, 2, 3| \n",
        "| Decimal o punto flotante         | 1.25, -120.25 | \n",
        "| Cadena o texto        | Hola, Adiós              | \n",
        "| Lista        | \\[1, 2, 3\\]              |\n",
        "| Diccionario        | {\"llave\": \"valor\"}              |"
      ]
    },
    {
      "cell_type": "code",
      "metadata": {
        "id": "lbTfl0gScwWB",
        "colab_type": "code",
        "colab": {}
      },
      "source": [
        "cadena = \"estos es una cadena de texto\"\n",
        "\n",
        "entero = 10\n",
        "\n",
        "punto_flotante = 10.4\n",
        "\n",
        "punto_flotante_alternativa = 10.\n",
        "\n",
        "booleano = False\n",
        "\n",
        "lista = [\"elemento1\", \"elemento2\", 1236, 10.2, 2., True]\n",
        "\n",
        "tupla = (\"elemento1\", \"elemento2\", 1236, 10.2, 2., True)\n",
        "\n",
        "diccionario = {\"llave1\": 1, \"llave2\": 2}\n"
      ],
      "execution_count": null,
      "outputs": []
    },
    {
      "cell_type": "markdown",
      "metadata": {
        "id": "IaSioeQAjQZs",
        "colab_type": "text"
      },
      "source": [
        "Vemos las Variables usando el comando mágico \"whos\"\n"
      ]
    },
    {
      "cell_type": "code",
      "metadata": {
        "tags": [],
        "id": "6sI7FNFxcwWF",
        "colab_type": "code",
        "colab": {
          "base_uri": "https://localhost:8080/",
          "height": 218
        },
        "outputId": "7df6be8a-fcdd-4212-cfc1-f157b275f3ad"
      },
      "source": [
        "%whos"
      ],
      "execution_count": null,
      "outputs": [
        {
          "output_type": "stream",
          "text": [
            "Variable                     Type      Data/Info\n",
            "------------------------------------------------\n",
            "booleano                     bool      False\n",
            "cadena                       str       estos es una cadena de texto\n",
            "diccionario                  dict      n=2\n",
            "entero                       int       10\n",
            "lista                        list      n=6\n",
            "punto_flotante               float     10.4\n",
            "punto_flotante_alternativa   float     10.0\n",
            "this                         module    <module 'this' from '/usr/lib/python3.6/this.py'>\n",
            "tupla                        tuple     n=6\n",
            "var                          int       123\n"
          ],
          "name": "stdout"
        }
      ]
    },
    {
      "cell_type": "markdown",
      "metadata": {
        "id": "bnhWjEf2cwWJ",
        "colab_type": "text"
      },
      "source": [
        "### Operaciones con cadenas de texto\n",
        "\n",
        "Las cadenas se pueden sumar y multiplicar, dependiendo el caso multiplicar es razonable, pero sumar esta desaconsejado; se recomienda usar formateo de texto"
      ]
    },
    {
      "cell_type": "code",
      "metadata": {
        "id": "hIQaBeP9cwWJ",
        "colab_type": "code",
        "colab": {
          "base_uri": "https://localhost:8080/",
          "height": 35
        },
        "outputId": "cbb37512-1a4c-43c0-f236-56fea664b1a9"
      },
      "source": [
        "palabra1 = \"hola\"\n",
        "palabra2 = \"mundo\"\n",
        "palabra1 + palabra2"
      ],
      "execution_count": null,
      "outputs": [
        {
          "output_type": "execute_result",
          "data": {
            "application/vnd.google.colaboratory.intrinsic+json": {
              "type": "string"
            },
            "text/plain": [
              "'holamundo'"
            ]
          },
          "metadata": {
            "tags": []
          },
          "execution_count": 9
        }
      ]
    },
    {
      "cell_type": "markdown",
      "metadata": {
        "id": "zj94Rkq_j8ZA",
        "colab_type": "text"
      },
      "source": [
        "Usando fomateo de texto:"
      ]
    },
    {
      "cell_type": "code",
      "metadata": {
        "id": "EYPO6jGOcwWM",
        "colab_type": "code",
        "colab": {
          "base_uri": "https://localhost:8080/",
          "height": 35
        },
        "outputId": "746331f5-54ea-46fe-b4c3-23090e964942"
      },
      "source": [
        "f\"{palabra1} {palabra2}\""
      ],
      "execution_count": null,
      "outputs": [
        {
          "output_type": "execute_result",
          "data": {
            "application/vnd.google.colaboratory.intrinsic+json": {
              "type": "string"
            },
            "text/plain": [
              "'hola mundo'"
            ]
          },
          "metadata": {
            "tags": []
          },
          "execution_count": 10
        }
      ]
    },
    {
      "cell_type": "code",
      "metadata": {
        "id": "e8XSiH9tcwWS",
        "colab_type": "code",
        "colab": {
          "base_uri": "https://localhost:8080/",
          "height": 35
        },
        "outputId": "7347d644-aa65-453d-9f32-887cb23aea8f"
      },
      "source": [
        "num = 1233432.127\n",
        "por = 0.1568\n",
        "\n",
        "f\"interpolar tambien permite cosas complejas como separador de miles {num:,.2f} o porcentajes {por:.0%}\""
      ],
      "execution_count": null,
      "outputs": [
        {
          "output_type": "execute_result",
          "data": {
            "application/vnd.google.colaboratory.intrinsic+json": {
              "type": "string"
            },
            "text/plain": [
              "'interpolar tambien permite cosas complejas como separador de miles 1,233,432.13 o porcentajes 16%'"
            ]
          },
          "metadata": {
            "tags": []
          },
          "execution_count": 11
        }
      ]
    },
    {
      "cell_type": "markdown",
      "metadata": {
        "id": "OCX5An0YkEA9",
        "colab_type": "text"
      },
      "source": [
        "### Funciones básicas de los diccionarios"
      ]
    },
    {
      "cell_type": "code",
      "metadata": {
        "id": "xb_fQcjOlKHB",
        "colab_type": "code",
        "colab": {
          "base_uri": "https://localhost:8080/",
          "height": 34
        },
        "outputId": "6bea473d-0fbb-4dde-ef5e-a75aa951f48d"
      },
      "source": [
        "diccionario"
      ],
      "execution_count": null,
      "outputs": [
        {
          "output_type": "execute_result",
          "data": {
            "text/plain": [
              "{'llave1': 1, 'llave2': 2}"
            ]
          },
          "metadata": {
            "tags": []
          },
          "execution_count": 12
        }
      ]
    },
    {
      "cell_type": "code",
      "metadata": {
        "id": "VRW87CE-cwWZ",
        "colab_type": "code",
        "colab": {
          "base_uri": "https://localhost:8080/",
          "height": 34
        },
        "outputId": "8532c85d-9c9f-4ec6-89c7-2332cde602ba"
      },
      "source": [
        "diccionario.keys()"
      ],
      "execution_count": null,
      "outputs": [
        {
          "output_type": "execute_result",
          "data": {
            "text/plain": [
              "dict_keys(['llave1', 'llave2'])"
            ]
          },
          "metadata": {
            "tags": []
          },
          "execution_count": 13
        }
      ]
    },
    {
      "cell_type": "code",
      "metadata": {
        "id": "ogwK-KQYcwWc",
        "colab_type": "code",
        "colab": {
          "base_uri": "https://localhost:8080/",
          "height": 34
        },
        "outputId": "1cd3965b-bd78-4055-9ba5-0e4441edea35"
      },
      "source": [
        "diccionario.values()"
      ],
      "execution_count": null,
      "outputs": [
        {
          "output_type": "execute_result",
          "data": {
            "text/plain": [
              "dict_values([1, 2])"
            ]
          },
          "metadata": {
            "tags": []
          },
          "execution_count": 14
        }
      ]
    },
    {
      "cell_type": "code",
      "metadata": {
        "id": "8InIw4GbcwWf",
        "colab_type": "code",
        "colab": {
          "base_uri": "https://localhost:8080/",
          "height": 34
        },
        "outputId": "124b8de5-e601-4c7f-aa86-d5d2907bf0bf"
      },
      "source": [
        "diccionario.items()"
      ],
      "execution_count": null,
      "outputs": [
        {
          "output_type": "execute_result",
          "data": {
            "text/plain": [
              "dict_items([('llave1', 1), ('llave2', 2)])"
            ]
          },
          "metadata": {
            "tags": []
          },
          "execution_count": 15
        }
      ]
    },
    {
      "cell_type": "code",
      "metadata": {
        "tags": [],
        "id": "3YuWQn5PcwWj",
        "colab_type": "code",
        "colab": {
          "base_uri": "https://localhost:8080/",
          "height": 34
        },
        "outputId": "1c9c340c-dba2-4e24-a9fd-a394be0415b6"
      },
      "source": [
        "diccionario[\"llave1\"]"
      ],
      "execution_count": null,
      "outputs": [
        {
          "output_type": "execute_result",
          "data": {
            "text/plain": [
              "1"
            ]
          },
          "metadata": {
            "tags": []
          },
          "execution_count": 16
        }
      ]
    },
    {
      "cell_type": "markdown",
      "metadata": {
        "id": "soNV1KDSlPnm",
        "colab_type": "text"
      },
      "source": [
        "### Funciones básicas de las Listas"
      ]
    },
    {
      "cell_type": "markdown",
      "metadata": {
        "id": "EL8UIRKLm33h",
        "colab_type": "text"
      },
      "source": [
        "Los elementos de una lista se pueden acceder mediante su indice\n",
        "\n",
        "* Todos los indices empiezan en 0\n",
        "* Se usan numeros enteros\n",
        "* El indice maximo equivale a la cantidad de (elementos - 1)\n",
        "* Se accede al elemento con [*indice*]\n",
        "* Si el indice es negativo, se cuenta desde el final"
      ]
    },
    {
      "cell_type": "code",
      "metadata": {
        "id": "xSAUzLSilL3w",
        "colab_type": "code",
        "colab": {
          "base_uri": "https://localhost:8080/",
          "height": 34
        },
        "outputId": "72c9207c-7dfa-4ae0-d4ac-777af2c23b28"
      },
      "source": [
        "lista"
      ],
      "execution_count": null,
      "outputs": [
        {
          "output_type": "execute_result",
          "data": {
            "text/plain": [
              "['elemento1', 'elemento2', 1236, 10.2, 2.0, True]"
            ]
          },
          "metadata": {
            "tags": []
          },
          "execution_count": 17
        }
      ]
    },
    {
      "cell_type": "code",
      "metadata": {
        "id": "c0ldNTJAcwWm",
        "colab_type": "code",
        "colab": {
          "base_uri": "https://localhost:8080/",
          "height": 35
        },
        "outputId": "1c45c131-7580-43b1-9251-f5bd633550e3"
      },
      "source": [
        "lista[0]"
      ],
      "execution_count": null,
      "outputs": [
        {
          "output_type": "execute_result",
          "data": {
            "application/vnd.google.colaboratory.intrinsic+json": {
              "type": "string"
            },
            "text/plain": [
              "'elemento1'"
            ]
          },
          "metadata": {
            "tags": []
          },
          "execution_count": 18
        }
      ]
    },
    {
      "cell_type": "code",
      "metadata": {
        "id": "v_lld55vcwWp",
        "colab_type": "code",
        "colab": {
          "base_uri": "https://localhost:8080/",
          "height": 35
        },
        "outputId": "7db7df96-6fc0-47c1-87e9-d95f513deff2"
      },
      "source": [
        "tupla[0]"
      ],
      "execution_count": null,
      "outputs": [
        {
          "output_type": "execute_result",
          "data": {
            "application/vnd.google.colaboratory.intrinsic+json": {
              "type": "string"
            },
            "text/plain": [
              "'elemento1'"
            ]
          },
          "metadata": {
            "tags": []
          },
          "execution_count": 19
        }
      ]
    },
    {
      "cell_type": "code",
      "metadata": {
        "id": "vZ3ylubycwWs",
        "colab_type": "code",
        "colab": {
          "base_uri": "https://localhost:8080/",
          "height": 34
        },
        "outputId": "2fd05a6f-6288-4ee3-b296-36bbba8542d3"
      },
      "source": [
        "lista[-1]"
      ],
      "execution_count": null,
      "outputs": [
        {
          "output_type": "execute_result",
          "data": {
            "text/plain": [
              "True"
            ]
          },
          "metadata": {
            "tags": []
          },
          "execution_count": 20
        }
      ]
    },
    {
      "cell_type": "code",
      "metadata": {
        "id": "wXXZnirYcwWy",
        "colab_type": "code",
        "colab": {
          "base_uri": "https://localhost:8080/",
          "height": 34
        },
        "outputId": "445bbc90-7bd9-4f34-f857-a1c80a5c62f6"
      },
      "source": [
        "lista[0] = \"otro elemento\"\n",
        "lista"
      ],
      "execution_count": null,
      "outputs": [
        {
          "output_type": "execute_result",
          "data": {
            "text/plain": [
              "['otro elemento', 'elemento2', 1236, 10.2, 2.0, True]"
            ]
          },
          "metadata": {
            "tags": []
          },
          "execution_count": 21
        }
      ]
    },
    {
      "cell_type": "code",
      "metadata": {
        "id": "5xqa9vXFcwW1",
        "colab_type": "code",
        "colab": {
          "base_uri": "https://localhost:8080/",
          "height": 162
        },
        "outputId": "4a207804-4c3c-4f1c-9621-a0b8e3791f13"
      },
      "source": [
        "tupla[0] = \"otro elemento\""
      ],
      "execution_count": null,
      "outputs": [
        {
          "output_type": "error",
          "ename": "TypeError",
          "evalue": "ignored",
          "traceback": [
            "\u001b[0;31m---------------------------------------------------------------------------\u001b[0m",
            "\u001b[0;31mTypeError\u001b[0m                                 Traceback (most recent call last)",
            "\u001b[0;32m<ipython-input-22-237f5813692c>\u001b[0m in \u001b[0;36m<module>\u001b[0;34m()\u001b[0m\n\u001b[0;32m----> 1\u001b[0;31m \u001b[0mtupla\u001b[0m\u001b[0;34m[\u001b[0m\u001b[0;36m0\u001b[0m\u001b[0;34m]\u001b[0m \u001b[0;34m=\u001b[0m \u001b[0;34m\"otro elemento\"\u001b[0m\u001b[0;34m\u001b[0m\u001b[0;34m\u001b[0m\u001b[0m\n\u001b[0m",
            "\u001b[0;31mTypeError\u001b[0m: 'tuple' object does not support item assignment"
          ]
        }
      ]
    },
    {
      "cell_type": "markdown",
      "metadata": {
        "id": "Kt5ujtaHbGU7",
        "colab_type": "text"
      },
      "source": [
        "### Seleccionando rangos\n",
        "Se pueden seleccionar mas de un elemento de una lista usando '**:**'\n",
        "\n",
        "Para seleccionar los primeros 2 se hace **[:2]**"
      ]
    },
    {
      "cell_type": "code",
      "metadata": {
        "id": "b0zVMSoBbGU8",
        "colab_type": "code",
        "colab": {
          "base_uri": "https://localhost:8080/",
          "height": 34
        },
        "outputId": "ebede4da-49b6-441d-8d58-83240cf80d92"
      },
      "source": [
        "lista[:2]"
      ],
      "execution_count": null,
      "outputs": [
        {
          "output_type": "execute_result",
          "data": {
            "text/plain": [
              "['otro elemento', 'elemento2']"
            ]
          },
          "metadata": {
            "tags": []
          },
          "execution_count": 23
        }
      ]
    },
    {
      "cell_type": "markdown",
      "metadata": {
        "id": "7UFlt-jabGU_",
        "colab_type": "text"
      },
      "source": [
        "Los ultimos dos:"
      ]
    },
    {
      "cell_type": "code",
      "metadata": {
        "id": "7EpjzgR2bGU_",
        "colab_type": "code",
        "colab": {
          "base_uri": "https://localhost:8080/",
          "height": 34
        },
        "outputId": "f14bcea5-a1f2-48a8-f639-c63f97a32184"
      },
      "source": [
        "lista[-2:]"
      ],
      "execution_count": null,
      "outputs": [
        {
          "output_type": "execute_result",
          "data": {
            "text/plain": [
              "[2.0, True]"
            ]
          },
          "metadata": {
            "tags": []
          },
          "execution_count": 24
        }
      ]
    },
    {
      "cell_type": "markdown",
      "metadata": {
        "id": "RKQRq8aEbGVD",
        "colab_type": "text"
      },
      "source": [
        "Que es lo mismo que seleccionar desde el 3o al ultimo"
      ]
    },
    {
      "cell_type": "code",
      "metadata": {
        "id": "fevDPv2UbGVE",
        "colab_type": "code",
        "colab": {
          "base_uri": "https://localhost:8080/",
          "height": 34
        },
        "outputId": "5ea12d41-68a6-4e9c-d6ab-e4bcdae18955"
      },
      "source": [
        "lista[3:]"
      ],
      "execution_count": null,
      "outputs": [
        {
          "output_type": "execute_result",
          "data": {
            "text/plain": [
              "[10.2, 2.0, True]"
            ]
          },
          "metadata": {
            "tags": []
          },
          "execution_count": 25
        }
      ]
    },
    {
      "cell_type": "markdown",
      "metadata": {
        "id": "GBvRbjv6bGVJ",
        "colab_type": "text"
      },
      "source": [
        "Del segundo al cuarto (ojo que el segundo elemento es el indice 1)"
      ]
    },
    {
      "cell_type": "code",
      "metadata": {
        "id": "2hrrBggVbGVK",
        "colab_type": "code",
        "colab": {
          "base_uri": "https://localhost:8080/",
          "height": 34
        },
        "outputId": "47ac9db8-6bdd-47eb-9f6f-81ae60965c90"
      },
      "source": [
        "lista[1:4]"
      ],
      "execution_count": null,
      "outputs": [
        {
          "output_type": "execute_result",
          "data": {
            "text/plain": [
              "['elemento2', 1236, 10.2]"
            ]
          },
          "metadata": {
            "tags": []
          },
          "execution_count": 26
        }
      ]
    },
    {
      "cell_type": "markdown",
      "metadata": {
        "id": "J0LrD8KXnK7n",
        "colab_type": "text"
      },
      "source": [
        "### Agragando datos a una Lista"
      ]
    },
    {
      "cell_type": "markdown",
      "metadata": {
        "id": "XP6HE7SRnZ9c",
        "colab_type": "text"
      },
      "source": [
        "Usando append() lo agrego al final"
      ]
    },
    {
      "cell_type": "code",
      "metadata": {
        "id": "cfmKy0TOnbCc",
        "colab_type": "code",
        "colab": {
          "base_uri": "https://localhost:8080/",
          "height": 34
        },
        "outputId": "773d6275-d3f8-47dd-9ee5-3d9491b2672e"
      },
      "source": [
        "nombres = ['Pedro', 'Lucia', 'Juan', 'Maria']\n",
        "nombres.append('Manuel')\n",
        "nombres"
      ],
      "execution_count": 1,
      "outputs": [
        {
          "output_type": "execute_result",
          "data": {
            "text/plain": [
              "['Pedro', 'Lucia', 'Juan', 'Maria', 'Manuel']"
            ]
          },
          "metadata": {
            "tags": []
          },
          "execution_count": 1
        }
      ]
    },
    {
      "cell_type": "markdown",
      "metadata": {
        "id": "c91LfLI_nnh3",
        "colab_type": "text"
      },
      "source": [
        "Usando insert() le digo la posición donde insertarlo"
      ]
    },
    {
      "cell_type": "code",
      "metadata": {
        "id": "f6JKJIp0nnHQ",
        "colab_type": "code",
        "colab": {
          "base_uri": "https://localhost:8080/",
          "height": 34
        },
        "outputId": "aa1bf296-ecb0-48b8-e04e-7bf9b4cbc3a1"
      },
      "source": [
        "nombres = ['Pedro', 'Lucia', 'Juan', 'Maria']\n",
        "nombres.insert(1, 'Manuel')\n",
        "nombres"
      ],
      "execution_count": 4,
      "outputs": [
        {
          "output_type": "execute_result",
          "data": {
            "text/plain": [
              "['Pedro', 'Manuel', 'Lucia', 'Juan', 'Maria']"
            ]
          },
          "metadata": {
            "tags": []
          },
          "execution_count": 4
        }
      ]
    },
    {
      "cell_type": "markdown",
      "metadata": {
        "id": "MCdVSyExoCIg",
        "colab_type": "text"
      },
      "source": [
        "### Elimino Valores de Una lista o los Ordeno"
      ]
    },
    {
      "cell_type": "markdown",
      "metadata": {
        "id": "L24EcTTSoHSf",
        "colab_type": "text"
      },
      "source": [
        "Puedo Eliminarlos usando remove()"
      ]
    },
    {
      "cell_type": "code",
      "metadata": {
        "id": "YbL4PhvCoLZ_",
        "colab_type": "code",
        "colab": {
          "base_uri": "https://localhost:8080/",
          "height": 34
        },
        "outputId": "335525cf-7621-4271-8086-f4b92e3d8df3"
      },
      "source": [
        "nombres = ['Pedro', 'Lucia', 'Juan', 'Maria']\n",
        "nombres.remove('Lucia')\n",
        "nombres"
      ],
      "execution_count": 6,
      "outputs": [
        {
          "output_type": "execute_result",
          "data": {
            "text/plain": [
              "['Pedro', 'Juan', 'Maria']"
            ]
          },
          "metadata": {
            "tags": []
          },
          "execution_count": 6
        }
      ]
    },
    {
      "cell_type": "markdown",
      "metadata": {
        "id": "oRKnSStEoQJm",
        "colab_type": "text"
      },
      "source": [
        "Puedo ordenarlos usando sort()"
      ]
    },
    {
      "cell_type": "code",
      "metadata": {
        "id": "sUWH_0KWoSe6",
        "colab_type": "code",
        "colab": {
          "base_uri": "https://localhost:8080/",
          "height": 34
        },
        "outputId": "f6400ac5-0e94-4dfb-b330-01cecf082790"
      },
      "source": [
        "numeros = [2, 5, 3.14, 1, -7]\n",
        "numeros.sort()\n",
        "numeros"
      ],
      "execution_count": 7,
      "outputs": [
        {
          "output_type": "execute_result",
          "data": {
            "text/plain": [
              "[-7, 1, 2, 3.14, 5]"
            ]
          },
          "metadata": {
            "tags": []
          },
          "execution_count": 7
        }
      ]
    },
    {
      "cell_type": "code",
      "metadata": {
        "id": "91gs5jKgoXs8",
        "colab_type": "code",
        "colab": {
          "base_uri": "https://localhost:8080/",
          "height": 34
        },
        "outputId": "29ebb069-8139-4165-dcc6-4184a3033371"
      },
      "source": [
        "nombres = ['Pedro', 'Lucia', 'Juan', 'Maria']\n",
        "nombres.sort()\n",
        "nombres"
      ],
      "execution_count": 8,
      "outputs": [
        {
          "output_type": "execute_result",
          "data": {
            "text/plain": [
              "['Juan', 'Lucia', 'Maria', 'Pedro']"
            ]
          },
          "metadata": {
            "tags": []
          },
          "execution_count": 8
        }
      ]
    },
    {
      "cell_type": "markdown",
      "metadata": {
        "id": "K3RO3oVUoldd",
        "colab_type": "text"
      },
      "source": [
        "Puedo invertir el orden con reverse="
      ]
    },
    {
      "cell_type": "code",
      "metadata": {
        "id": "QqJyKSZNog51",
        "colab_type": "code",
        "colab": {
          "base_uri": "https://localhost:8080/",
          "height": 34
        },
        "outputId": "68abd1a1-4235-48ba-c3b9-255c2d1b0c5c"
      },
      "source": [
        "numeros.sort(reverse=True)\n",
        "numeros"
      ],
      "execution_count": 10,
      "outputs": [
        {
          "output_type": "execute_result",
          "data": {
            "text/plain": [
              "[5, 3.14, 2, 1, -7]"
            ]
          },
          "metadata": {
            "tags": []
          },
          "execution_count": 10
        }
      ]
    },
    {
      "cell_type": "markdown",
      "metadata": {
        "id": "kGxP0Qz24-7S",
        "colab_type": "text"
      },
      "source": [
        "## Ejercicios"
      ]
    },
    {
      "cell_type": "markdown",
      "metadata": {
        "id": "qlzrN9NHnuQB",
        "colab_type": "text"
      },
      "source": [
        "#### Objetos y Tipos\n"
      ]
    },
    {
      "cell_type": "markdown",
      "metadata": {
        "id": "WUOCDKpE5DZV",
        "colab_type": "text"
      },
      "source": [
        "Asignar a un objeto llamado \"Numero\" el resultado de: 100 / 4"
      ]
    },
    {
      "cell_type": "code",
      "metadata": {
        "id": "Dp-SMIjH5ByA",
        "colab_type": "code",
        "colab": {}
      },
      "source": [
        ""
      ],
      "execution_count": null,
      "outputs": []
    },
    {
      "cell_type": "markdown",
      "metadata": {
        "id": "CwvaZdLy5LxJ",
        "colab_type": "text"
      },
      "source": [
        "Ver el Tipo de Dato de el objeto Numero"
      ]
    },
    {
      "cell_type": "code",
      "metadata": {
        "id": "ZgLehZki5ipM",
        "colab_type": "code",
        "colab": {}
      },
      "source": [
        ""
      ],
      "execution_count": null,
      "outputs": []
    },
    {
      "cell_type": "markdown",
      "metadata": {
        "id": "GmdMqgOXnq3t",
        "colab_type": "text"
      },
      "source": [
        "#### Listas"
      ]
    },
    {
      "cell_type": "markdown",
      "metadata": {
        "id": "Mg5vnAn36CuH",
        "colab_type": "text"
      },
      "source": [
        "Crear una Lista llamada \"Letras\" que contenga 5 letras de la A a la E  (A, B, C, D, E)"
      ]
    },
    {
      "cell_type": "code",
      "metadata": {
        "id": "N3gKq4Tg6Bzl",
        "colab_type": "code",
        "colab": {}
      },
      "source": [
        ""
      ],
      "execution_count": null,
      "outputs": []
    },
    {
      "cell_type": "markdown",
      "metadata": {
        "id": "9UQAM2k_6cvK",
        "colab_type": "text"
      },
      "source": [
        "Buscar, usando el indice, el primer y el ultimo elemento de la lista"
      ]
    },
    {
      "cell_type": "code",
      "metadata": {
        "id": "zRByJpEp6cLU",
        "colab_type": "code",
        "colab": {}
      },
      "source": [
        ""
      ],
      "execution_count": null,
      "outputs": []
    },
    {
      "cell_type": "code",
      "metadata": {
        "id": "MRI3kQkl63wf",
        "colab_type": "code",
        "colab": {}
      },
      "source": [
        ""
      ],
      "execution_count": null,
      "outputs": []
    },
    {
      "cell_type": "markdown",
      "metadata": {
        "id": "bY6rTZCG62wu",
        "colab_type": "text"
      },
      "source": [
        "Buscar, usando el indice, los 3 primeros elementos de la lista"
      ]
    },
    {
      "cell_type": "code",
      "metadata": {
        "id": "a1eBD__q6kl_",
        "colab_type": "code",
        "colab": {}
      },
      "source": [
        ""
      ],
      "execution_count": null,
      "outputs": []
    }
  ]
}
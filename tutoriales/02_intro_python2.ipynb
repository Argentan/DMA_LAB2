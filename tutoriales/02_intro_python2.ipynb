{
  "nbformat": 4,
  "nbformat_minor": 0,
  "metadata": {
    "kernelspec": {
      "display_name": "Python 3",
      "language": "python",
      "name": "python3"
    },
    "language_info": {
      "codemirror_mode": {
        "name": "ipython",
        "version": 3
      },
      "file_extension": ".py",
      "mimetype": "text/x-python",
      "name": "python",
      "nbconvert_exporter": "python",
      "pygments_lexer": "ipython3",
      "version": "3.7.3-final"
    },
    "colab": {
      "name": "02_intro_python2.ipynb",
      "provenance": [],
      "include_colab_link": true
    }
  },
  "cells": [
    {
      "cell_type": "markdown",
      "metadata": {
        "id": "view-in-github",
        "colab_type": "text"
      },
      "source": [
        "<a href=\"https://colab.research.google.com/github/Argentan/DMA_LAB2/blob/master/tutoriales/02_intro_python2.ipynb\" target=\"_parent\"><img src=\"https://colab.research.google.com/assets/colab-badge.svg\" alt=\"Open In Colab\"/></a>"
      ]
    },
    {
      "cell_type": "markdown",
      "metadata": {
        "id": "YkVfvT77robC",
        "colab_type": "text"
      },
      "source": [
        "# Importación de Librerías\n",
        "\n",
        "Importar una librería entera\n"
      ]
    },
    {
      "cell_type": "code",
      "metadata": {
        "id": "mpw2IhwPruyL",
        "colab_type": "code",
        "colab": {}
      },
      "source": [
        "import random"
      ],
      "execution_count": 17,
      "outputs": []
    },
    {
      "cell_type": "markdown",
      "metadata": {
        "id": "HfzxYBZvsJ7D",
        "colab_type": "text"
      },
      "source": [
        "Puedo asignar un nombre corto para facilitar la llamada de funciones"
      ]
    },
    {
      "cell_type": "code",
      "metadata": {
        "id": "gXbMrrVVr4g2",
        "colab_type": "code",
        "colab": {}
      },
      "source": [
        "import pandas as pd"
      ],
      "execution_count": null,
      "outputs": []
    },
    {
      "cell_type": "markdown",
      "metadata": {
        "id": "OrtcQ04ZryEn",
        "colab_type": "text"
      },
      "source": [
        "Importar solo una función de una librería"
      ]
    },
    {
      "cell_type": "code",
      "metadata": {
        "id": "hxTJMxLLrxd1",
        "colab_type": "code",
        "colab": {}
      },
      "source": [
        "from random import sample"
      ],
      "execution_count": 19,
      "outputs": []
    },
    {
      "cell_type": "markdown",
      "metadata": {
        "id": "-ajBtMAmsQFI",
        "colab_type": "text"
      },
      "source": [
        "Si no tengo instalada una librería puedo hacerla de varias maneras, la más simple usando **pip** \n",
        "\n",
        "El \"**!**\" lo usamos en Jupyter Notebooks para indicarle que es un comando de consola"
      ]
    },
    {
      "cell_type": "code",
      "metadata": {
        "id": "vdf46sJhsZVn",
        "colab_type": "code",
        "colab": {}
      },
      "source": [
        "!pip install seaborn"
      ],
      "execution_count": null,
      "outputs": []
    },
    {
      "cell_type": "markdown",
      "metadata": {
        "id": "I7gQIKXts7ac",
        "colab_type": "text"
      },
      "source": [
        "Otra alternativa es con **apt-get**, por ejemplo, para esta librería que nos ayuda a leer archivos de compresión 7zip"
      ]
    },
    {
      "cell_type": "code",
      "metadata": {
        "id": "jx1uHYyws60d",
        "colab_type": "code",
        "colab": {}
      },
      "source": [
        "# https://pypi.python.org/pypi/libarchive\n",
        "!apt-get -qq install -y libarchive-dev && pip install -U libarchive"
      ],
      "execution_count": null,
      "outputs": []
    },
    {
      "cell_type": "markdown",
      "metadata": {
        "id": "IUB_QFchtUG6",
        "colab_type": "text"
      },
      "source": [
        "También puedo ver la versión de la Librería que tengo usando **pip show**"
      ]
    },
    {
      "cell_type": "code",
      "metadata": {
        "id": "iJpq94LZtSp7",
        "colab_type": "code",
        "colab": {}
      },
      "source": [
        "!pip show tensorflow"
      ],
      "execution_count": null,
      "outputs": []
    },
    {
      "cell_type": "markdown",
      "metadata": {
        "id": "34XIJdvrtvIZ",
        "colab_type": "text"
      },
      "source": [
        "También puedo indicarle una versión específica de la librería si lo requiero"
      ]
    },
    {
      "cell_type": "code",
      "metadata": {
        "id": "Tj98BGEDtsi-",
        "colab_type": "code",
        "colab": {}
      },
      "source": [
        "!pip install tensorflow==1.2"
      ],
      "execution_count": null,
      "outputs": []
    },
    {
      "cell_type": "markdown",
      "metadata": {
        "id": "5Gcv4LytpJa6",
        "colab_type": "text"
      },
      "source": [
        "# Estructuras de control\n",
        "\n",
        "## Comparadores lógicos\n",
        "\n",
        "| Operador | Acción |\n",
        "| -------- | ------ |\n",
        "| ==       | igual  |\n",
        "| > =       | mayor o igual |\n",
        "| >        | mayor estricto |\n",
        "| < =      | menor o igual |\n",
        "| <     | menor estricto |\n",
        "| ! = | desigual|\n",
        "| or | o |\n",
        "| and | y |\n"
      ]
    },
    {
      "cell_type": "code",
      "metadata": {
        "id": "vAQhz4JBpJa8",
        "colab_type": "code",
        "colab": {},
        "outputId": "2ded7896-a2c2-4291-b9f1-f00b8404005b"
      },
      "source": [
        "1 == 1"
      ],
      "execution_count": null,
      "outputs": [
        {
          "output_type": "execute_result",
          "data": {
            "text/plain": [
              "True"
            ]
          },
          "metadata": {
            "tags": []
          },
          "execution_count": 1
        }
      ]
    },
    {
      "cell_type": "code",
      "metadata": {
        "id": "VOliCyFXpJbD",
        "colab_type": "code",
        "colab": {},
        "outputId": "4dbbe339-a2c1-4547-948c-4369686a91ad"
      },
      "source": [
        "1 == 2"
      ],
      "execution_count": null,
      "outputs": [
        {
          "output_type": "execute_result",
          "data": {
            "text/plain": [
              "False"
            ]
          },
          "metadata": {
            "tags": []
          },
          "execution_count": 2
        }
      ]
    },
    {
      "cell_type": "code",
      "metadata": {
        "id": "Kyntul6YpJbH",
        "colab_type": "code",
        "colab": {},
        "outputId": "dba5cc87-99d1-45ae-e4d2-d2b785d74d6f"
      },
      "source": [
        "1 == 1."
      ],
      "execution_count": null,
      "outputs": [
        {
          "output_type": "execute_result",
          "data": {
            "text/plain": [
              "True"
            ]
          },
          "metadata": {
            "tags": []
          },
          "execution_count": 3
        }
      ]
    },
    {
      "cell_type": "code",
      "metadata": {
        "id": "qRuWkBNMpJbL",
        "colab_type": "code",
        "colab": {},
        "outputId": "7dc12373-a14c-4e18-f0d4-af827c398782"
      },
      "source": [
        "\"hola\" == \"hola\""
      ],
      "execution_count": null,
      "outputs": [
        {
          "output_type": "execute_result",
          "data": {
            "text/plain": [
              "True"
            ]
          },
          "metadata": {
            "tags": []
          },
          "execution_count": 4
        }
      ]
    },
    {
      "cell_type": "code",
      "metadata": {
        "id": "gPRDGwcOpJbP",
        "colab_type": "code",
        "colab": {},
        "outputId": "f23faaaa-387d-4981-9982-eb0f635e0900"
      },
      "source": [
        "\"hola\" == \"Hola\""
      ],
      "execution_count": null,
      "outputs": [
        {
          "output_type": "execute_result",
          "data": {
            "text/plain": [
              "False"
            ]
          },
          "metadata": {
            "tags": []
          },
          "execution_count": 5
        }
      ]
    },
    {
      "cell_type": "code",
      "metadata": {
        "id": "8zsLgypvpJbT",
        "colab_type": "code",
        "colab": {},
        "outputId": "a4e7593a-4fe4-4c2b-961d-a7b6c2e5f239"
      },
      "source": [
        "\"hola\" != \"Hola\""
      ],
      "execution_count": null,
      "outputs": [
        {
          "output_type": "execute_result",
          "data": {
            "text/plain": [
              "True"
            ]
          },
          "metadata": {
            "tags": []
          },
          "execution_count": 6
        }
      ]
    },
    {
      "cell_type": "code",
      "metadata": {
        "id": "z78cEc50pJbW",
        "colab_type": "code",
        "colab": {
          "base_uri": "https://localhost:8080/",
          "height": 34
        },
        "outputId": "6ea49aa4-4621-4872-b0f4-eed4ba321f76"
      },
      "source": [
        "(1 == 1) and (2 == 2)"
      ],
      "execution_count": 1,
      "outputs": [
        {
          "output_type": "execute_result",
          "data": {
            "text/plain": [
              "True"
            ]
          },
          "metadata": {
            "tags": []
          },
          "execution_count": 1
        }
      ]
    },
    {
      "cell_type": "code",
      "metadata": {
        "id": "aTCRHJnDpJbd",
        "colab_type": "code",
        "colab": {
          "base_uri": "https://localhost:8080/",
          "height": 34
        },
        "outputId": "a2b8ffb9-19d3-4e57-831c-e3ac0260b147"
      },
      "source": [
        "(1 == 1) and (2 != 2)"
      ],
      "execution_count": 2,
      "outputs": [
        {
          "output_type": "execute_result",
          "data": {
            "text/plain": [
              "False"
            ]
          },
          "metadata": {
            "tags": []
          },
          "execution_count": 2
        }
      ]
    },
    {
      "cell_type": "code",
      "metadata": {
        "id": "HTZEJDB9pJbh",
        "colab_type": "code",
        "colab": {
          "base_uri": "https://localhost:8080/",
          "height": 34
        },
        "outputId": "aa76121f-c5f2-4acf-84a5-3db42afddb3c"
      },
      "source": [
        "(1 == 1) or (2 != 2)"
      ],
      "execution_count": 3,
      "outputs": [
        {
          "output_type": "execute_result",
          "data": {
            "text/plain": [
              "True"
            ]
          },
          "metadata": {
            "tags": []
          },
          "execution_count": 3
        }
      ]
    },
    {
      "cell_type": "code",
      "metadata": {
        "id": "eKQySLbMpJbn",
        "colab_type": "code",
        "colab": {
          "base_uri": "https://localhost:8080/",
          "height": 34
        },
        "outputId": "4c509e08-0354-47d9-cf11-7d78202e4fad"
      },
      "source": [
        "not ((1 == 1) or (2 != 2))"
      ],
      "execution_count": 7,
      "outputs": [
        {
          "output_type": "execute_result",
          "data": {
            "text/plain": [
              "False"
            ]
          },
          "metadata": {
            "tags": []
          },
          "execution_count": 7
        }
      ]
    },
    {
      "cell_type": "code",
      "metadata": {
        "id": "rzUaqIqFpJbr",
        "colab_type": "code",
        "colab": {
          "base_uri": "https://localhost:8080/",
          "height": 34
        },
        "outputId": "41a9fe2b-12f0-45ba-c8f1-322d52af9415"
      },
      "source": [
        "not (1 == 1) or (2 == 2)"
      ],
      "execution_count": 10,
      "outputs": [
        {
          "output_type": "execute_result",
          "data": {
            "text/plain": [
              "True"
            ]
          },
          "metadata": {
            "tags": []
          },
          "execution_count": 10
        }
      ]
    },
    {
      "cell_type": "markdown",
      "metadata": {
        "id": "82xO1hGUpJbu",
        "colab_type": "text"
      },
      "source": [
        "## Condicionales"
      ]
    },
    {
      "cell_type": "code",
      "metadata": {
        "tags": [],
        "id": "6NKcH11tpJbv",
        "colab_type": "code",
        "colab": {},
        "outputId": "ebe48f58-96a2-44c3-c779-31a5c8a0a37f"
      },
      "source": [
        "persona = \"Juan\"\n",
        "if (persona == \"Juan\"):\n",
        "    print(\"econtrado\")"
      ],
      "execution_count": null,
      "outputs": [
        {
          "output_type": "stream",
          "text": [
            "econtrado\n"
          ],
          "name": "stdout"
        }
      ]
    },
    {
      "cell_type": "code",
      "metadata": {
        "tags": [],
        "id": "axy543RwpJby",
        "colab_type": "code",
        "colab": {},
        "outputId": "12fba4a3-6ce2-4f57-b578-d078d4b0190c"
      },
      "source": [
        "if (persona == \"Pedro\"):\n",
        "    print(\"econtrado\")\n",
        "else:\n",
        "    print(\"no encontrado\")"
      ],
      "execution_count": null,
      "outputs": [
        {
          "output_type": "stream",
          "text": [
            "no encontrado\n"
          ],
          "name": "stdout"
        }
      ]
    },
    {
      "cell_type": "code",
      "metadata": {
        "tags": [],
        "id": "yzU1Iu5ipJb1",
        "colab_type": "code",
        "colab": {},
        "outputId": "9abe805f-7f2b-43ce-e01b-456134fe73e6"
      },
      "source": [
        "if (persona == \"Pedro\"):\n",
        "    print(\"econtrado Pedro\")\n",
        "elif (persona == \"Juan\"): \n",
        "    print(\"econtrado Juan\")\n",
        "else:\n",
        "    print(\"no encontrado\")"
      ],
      "execution_count": null,
      "outputs": [
        {
          "output_type": "stream",
          "text": [
            "econtrado Juan\n"
          ],
          "name": "stdout"
        }
      ]
    },
    {
      "cell_type": "markdown",
      "metadata": {
        "id": "DbCgt-XKpJb4",
        "colab_type": "text"
      },
      "source": [
        "## Loops"
      ]
    },
    {
      "cell_type": "markdown",
      "metadata": {
        "id": "2xD8Q7YOQFZi",
        "colab_type": "text"
      },
      "source": [
        "### Loops usando For"
      ]
    },
    {
      "cell_type": "code",
      "metadata": {
        "tags": [],
        "id": "BSXUM02KpJb5",
        "colab_type": "code",
        "colab": {},
        "outputId": "6c7f60cf-05d9-48c9-e410-e61050f85d70"
      },
      "source": [
        "for a in [1, 2, 3]:\n",
        "    print(a)"
      ],
      "execution_count": null,
      "outputs": [
        {
          "output_type": "stream",
          "text": [
            "1\n",
            "2\n",
            "3\n"
          ],
          "name": "stdout"
        }
      ]
    },
    {
      "cell_type": "code",
      "metadata": {
        "tags": [],
        "id": "LKZGumv6pJb-",
        "colab_type": "code",
        "colab": {},
        "outputId": "05282f09-ba46-4f0e-fe85-18e6bfc91590"
      },
      "source": [
        "lista = [1, 2, 3]\n",
        "for a in lista:\n",
        "    print(a)"
      ],
      "execution_count": null,
      "outputs": [
        {
          "output_type": "stream",
          "text": [
            "1\n",
            "2\n",
            "3\n"
          ],
          "name": "stdout"
        }
      ]
    },
    {
      "cell_type": "code",
      "metadata": {
        "tags": [],
        "id": "mODIDXvlpJcB",
        "colab_type": "code",
        "colab": {},
        "outputId": "252b521d-2b86-4582-af8b-f58d49c54719"
      },
      "source": [
        "diccionario = {\"v1\": 1, \"v2\": 2, \"v3\": 3}\n",
        "for a in diccionario:\n",
        "    print(a)"
      ],
      "execution_count": null,
      "outputs": [
        {
          "output_type": "stream",
          "text": [
            "v1\n",
            "v2\n",
            "v3\n"
          ],
          "name": "stdout"
        }
      ]
    },
    {
      "cell_type": "code",
      "metadata": {
        "tags": [],
        "id": "1VUE26c1pJcE",
        "colab_type": "code",
        "colab": {
          "base_uri": "https://localhost:8080/",
          "height": 67
        },
        "outputId": "bc2e6306-3a42-4bc8-e480-d0f7afd88b7e"
      },
      "source": [
        "diccionario = {\"v1\": 1, \"v2\": 2, \"v3\": 3}\n",
        "for a in diccionario.keys():\n",
        "    print(a, diccionario[a])"
      ],
      "execution_count": 35,
      "outputs": [
        {
          "output_type": "stream",
          "text": [
            "v1 1\n",
            "v2 2\n",
            "v3 3\n"
          ],
          "name": "stdout"
        }
      ]
    },
    {
      "cell_type": "code",
      "metadata": {
        "id": "EK0A_9jzpJcL",
        "colab_type": "code",
        "colab": {
          "base_uri": "https://localhost:8080/",
          "height": 34
        },
        "outputId": "7666b1af-5cf1-4749-bbfc-83067d620910"
      },
      "source": [
        "diccionario.items()"
      ],
      "execution_count": 36,
      "outputs": [
        {
          "output_type": "execute_result",
          "data": {
            "text/plain": [
              "dict_items([('v1', 1), ('v2', 2), ('v3', 3)])"
            ]
          },
          "metadata": {
            "tags": []
          },
          "execution_count": 36
        }
      ]
    },
    {
      "cell_type": "code",
      "metadata": {
        "tags": [],
        "id": "L7Jmh98OpJcH",
        "colab_type": "code",
        "colab": {},
        "outputId": "4bb0dc1a-4894-486d-d49a-71936064f968"
      },
      "source": [
        "diccionario = {\"v1\": 1, \"v2\": 2, \"v3\": 3}\n",
        "for k, v in diccionario.items():\n",
        "    print(f\"llave: {k}, valor: {v}\")"
      ],
      "execution_count": null,
      "outputs": [
        {
          "output_type": "stream",
          "text": [
            "llave: v1, valor: 1\n",
            "llave: v2, valor: 2\n",
            "llave: v3, valor: 3\n"
          ],
          "name": "stdout"
        }
      ]
    },
    {
      "cell_type": "code",
      "metadata": {
        "id": "sFPIuNBjpJcO",
        "colab_type": "code",
        "colab": {
          "base_uri": "https://localhost:8080/",
          "height": 50
        },
        "outputId": "2ef3b018-642f-47dd-abde-c54678652058"
      },
      "source": [
        "v1, v2 = 1, 2\n",
        "print(v1)\n",
        "print(v2)"
      ],
      "execution_count": 12,
      "outputs": [
        {
          "output_type": "stream",
          "text": [
            "1\n",
            "2\n"
          ],
          "name": "stdout"
        }
      ]
    },
    {
      "cell_type": "code",
      "metadata": {
        "tags": [],
        "id": "LK6yuZkSpJcS",
        "colab_type": "code",
        "colab": {
          "base_uri": "https://localhost:8080/",
          "height": 67
        },
        "outputId": "120792ac-3f48-4efc-ed5b-a38c1d8ac815"
      },
      "source": [
        "lista = [\"a\", \"b\", \"c\"]\n",
        "for indice in range(len(lista)):\n",
        "    print(f\"el indice {indice} tienen un valor {lista[indice]}\")"
      ],
      "execution_count": 13,
      "outputs": [
        {
          "output_type": "stream",
          "text": [
            "el indice 0 tienen un valor a\n",
            "el indice 1 tienen un valor b\n",
            "el indice 2 tienen un valor c\n"
          ],
          "name": "stdout"
        }
      ]
    },
    {
      "cell_type": "code",
      "metadata": {
        "id": "kw2C5fW9qzLs",
        "colab_type": "code",
        "colab": {
          "base_uri": "https://localhost:8080/",
          "height": 34
        },
        "outputId": "d838341a-2c4e-48c8-f003-ffad4cb8f200"
      },
      "source": [
        "range(len(lista))"
      ],
      "execution_count": 14,
      "outputs": [
        {
          "output_type": "execute_result",
          "data": {
            "text/plain": [
              "range(0, 3)"
            ]
          },
          "metadata": {
            "tags": []
          },
          "execution_count": 14
        }
      ]
    },
    {
      "cell_type": "code",
      "metadata": {
        "tags": [],
        "id": "ay_M9kW5pJcV",
        "colab_type": "code",
        "colab": {
          "base_uri": "https://localhost:8080/",
          "height": 67
        },
        "outputId": "fd4f4157-4ed7-4e9d-8372-d07e0c049b1d"
      },
      "source": [
        "for indice, elemento in enumerate(lista):\n",
        "    print(f\"el indice {indice} tienen un valor {elemento}\")"
      ],
      "execution_count": 16,
      "outputs": [
        {
          "output_type": "stream",
          "text": [
            "el indice 0 tienen un valor a\n",
            "el indice 1 tienen un valor b\n",
            "el indice 2 tienen un valor c\n"
          ],
          "name": "stdout"
        }
      ]
    },
    {
      "cell_type": "markdown",
      "metadata": {
        "id": "5VQeBfG8t-Mc",
        "colab_type": "text"
      },
      "source": [
        "### Loops usando While "
      ]
    },
    {
      "cell_type": "code",
      "metadata": {
        "id": "EC9ZihppQloi",
        "colab_type": "code",
        "colab": {}
      },
      "source": [
        "from random import random"
      ],
      "execution_count": null,
      "outputs": []
    },
    {
      "cell_type": "code",
      "metadata": {
        "tags": [],
        "id": "eu8BPp7qpJcY",
        "colab_type": "code",
        "colab": {
          "base_uri": "https://localhost:8080/",
          "height": 202
        },
        "outputId": "fbd1dda9-f9f3-4063-bf46-9454cf777a64"
      },
      "source": [
        "cent = 0\n",
        "print(cent)\n",
        "while cent < 0.7:\n",
        "    cent = random()\n",
        "    print(\"nuevo cent:\", cent)"
      ],
      "execution_count": 37,
      "outputs": [
        {
          "output_type": "stream",
          "text": [
            "0\n",
            "nuevo cent: 0.45213893899776947\n",
            "nuevo cent: 0.41145580009217186\n",
            "nuevo cent: 0.6847429458295473\n",
            "nuevo cent: 0.6167300719624855\n",
            "nuevo cent: 0.22184164761367897\n",
            "nuevo cent: 0.08837425503441121\n",
            "nuevo cent: 0.03806110307242461\n",
            "nuevo cent: 0.6775709136362923\n",
            "nuevo cent: 0.017772150559181576\n",
            "nuevo cent: 0.8682520610830691\n"
          ],
          "name": "stdout"
        }
      ]
    },
    {
      "cell_type": "markdown",
      "metadata": {
        "id": "qMjTuQxspJcd",
        "colab_type": "text"
      },
      "source": [
        "\n",
        "\n",
        "```\n",
        "# Tiene formato de código\n",
        "```\n",
        "\n",
        "### List Comprehension vs. For Loops"
      ]
    },
    {
      "cell_type": "code",
      "metadata": {
        "tags": [],
        "id": "06gFgkR6pJcd",
        "colab_type": "code",
        "colab": {
          "base_uri": "https://localhost:8080/",
          "height": 34
        },
        "outputId": "351c2f75-f425-4578-ffe7-a5341f75eb42"
      },
      "source": [
        "%%timeit\n",
        "lista1 = []\n",
        "for a in range(10000):\n",
        "    b = a / 2 + 10\n",
        "    lista1.append(b)"
      ],
      "execution_count": 42,
      "outputs": [
        {
          "output_type": "stream",
          "text": [
            "1000 loops, best of 3: 1.22 ms per loop\n"
          ],
          "name": "stdout"
        }
      ]
    },
    {
      "cell_type": "code",
      "metadata": {
        "tags": [],
        "id": "4n0Nls8GpJcg",
        "colab_type": "code",
        "colab": {
          "base_uri": "https://localhost:8080/",
          "height": 34
        },
        "outputId": "8dae6d1b-8bfd-45d6-f57a-9429e65d640d"
      },
      "source": [
        "%%timeit\n",
        "lista2 = [a / 2 + 10 for a in range(10000)]"
      ],
      "execution_count": 43,
      "outputs": [
        {
          "output_type": "stream",
          "text": [
            "1000 loops, best of 3: 851 µs per loop\n"
          ],
          "name": "stdout"
        }
      ]
    },
    {
      "cell_type": "markdown",
      "metadata": {
        "id": "PJChvhCrR4rX",
        "colab_type": "text"
      },
      "source": [
        "## Referencia y Copia de Objetos"
      ]
    },
    {
      "cell_type": "code",
      "metadata": {
        "id": "rhY65hfcpJcj",
        "colab_type": "code",
        "colab": {}
      },
      "source": [
        "lista1 = []\n",
        "for a in range(10):\n",
        "    b = a / 2 + 10\n",
        "    lista1.append(b)"
      ],
      "execution_count": 44,
      "outputs": []
    },
    {
      "cell_type": "code",
      "metadata": {
        "id": "q_MUUmYNReHE",
        "colab_type": "code",
        "colab": {}
      },
      "source": [
        "lista2 = [a / 2 + 10 for a in range(10)]"
      ],
      "execution_count": 45,
      "outputs": []
    },
    {
      "cell_type": "code",
      "metadata": {
        "id": "xUoa1Zw1Rj90",
        "colab_type": "code",
        "colab": {
          "base_uri": "https://localhost:8080/",
          "height": 50
        },
        "outputId": "70a08bde-5c69-4d5e-cc0c-832f04592668"
      },
      "source": [
        "print(lista1)\n",
        "print(lista2)"
      ],
      "execution_count": 49,
      "outputs": [
        {
          "output_type": "stream",
          "text": [
            "[10.0, 10.5, 11.0, 11.5, 12.0, 12.5, 13.0, 13.5, 14.0, 14.5]\n",
            "[10.0, 10.5, 11.0, 11.5, 12.0, 12.5, 13.0, 13.5, 14.0, 14.5]\n"
          ],
          "name": "stdout"
        }
      ]
    },
    {
      "cell_type": "code",
      "metadata": {
        "tags": [],
        "id": "H4RwHTuapJcm",
        "colab_type": "code",
        "colab": {
          "base_uri": "https://localhost:8080/",
          "height": 50
        },
        "outputId": "71e31864-fd6e-45e7-e87f-974bd21b2010"
      },
      "source": [
        "print(lista1 is lista2)\n",
        "print(lista1 == lista2)"
      ],
      "execution_count": 50,
      "outputs": [
        {
          "output_type": "stream",
          "text": [
            "False\n",
            "True\n"
          ],
          "name": "stdout"
        }
      ]
    },
    {
      "cell_type": "code",
      "metadata": {
        "id": "kgZsiqpipJco",
        "colab_type": "code",
        "colab": {
          "base_uri": "https://localhost:8080/",
          "height": 34
        },
        "outputId": "3065824b-a507-467b-ddfb-587f7a858d38"
      },
      "source": [
        "lista3 = lista2\n",
        "lista3 is lista2"
      ],
      "execution_count": 51,
      "outputs": [
        {
          "output_type": "execute_result",
          "data": {
            "text/plain": [
              "True"
            ]
          },
          "metadata": {
            "tags": []
          },
          "execution_count": 51
        }
      ]
    },
    {
      "cell_type": "markdown",
      "metadata": {
        "id": "3hpIu8EuSBnT",
        "colab_type": "text"
      },
      "source": [
        "Que sucede si modifico un elemento de la lista2 y veo la lista3"
      ]
    },
    {
      "cell_type": "code",
      "metadata": {
        "id": "Cve_LeoIpJcr",
        "colab_type": "code",
        "colab": {
          "base_uri": "https://localhost:8080/",
          "height": 34
        },
        "outputId": "a5eabd5b-c84e-42f1-972a-dfb73440ddb5"
      },
      "source": [
        "lista2[0] = \"nuevo_elemento\"\n",
        "\n",
        "lista3"
      ],
      "execution_count": 52,
      "outputs": [
        {
          "output_type": "execute_result",
          "data": {
            "text/plain": [
              "['nuevo_elemento', 10.5, 11.0, 11.5, 12.0, 12.5, 13.0, 13.5, 14.0, 14.5]"
            ]
          },
          "metadata": {
            "tags": []
          },
          "execution_count": 52
        }
      ]
    },
    {
      "cell_type": "code",
      "metadata": {
        "id": "aEfhhOLspJcx",
        "colab_type": "code",
        "colab": {
          "base_uri": "https://localhost:8080/",
          "height": 34
        },
        "outputId": "41a3301b-9b1c-4b1c-d1dd-e170f42e8b8c"
      },
      "source": [
        "lista4 = lista1.copy()\n",
        "lista1[0] = \"nuevo2\"\n",
        "lista4"
      ],
      "execution_count": 53,
      "outputs": [
        {
          "output_type": "execute_result",
          "data": {
            "text/plain": [
              "[10.0, 10.5, 11.0, 11.5, 12.0, 12.5, 13.0, 13.5, 14.0, 14.5]"
            ]
          },
          "metadata": {
            "tags": []
          },
          "execution_count": 53
        }
      ]
    },
    {
      "cell_type": "markdown",
      "metadata": {
        "id": "G3S9WwhApJcz",
        "colab_type": "text"
      },
      "source": [
        "## Dictionary Comprehension"
      ]
    },
    {
      "cell_type": "markdown",
      "metadata": {
        "id": "T4HpK4QASn3B",
        "colab_type": "text"
      },
      "source": [
        "Puedo crear diccionarios usando Dictionary Comprehension de la sigiente forma:\n",
        "\n",
        "`dictionary = {key: value for vars in iterable}`"
      ]
    },
    {
      "cell_type": "code",
      "metadata": {
        "id": "tuhs3FJZpJc0",
        "colab_type": "code",
        "colab": {},
        "outputId": "46969970-2c2f-4902-bf6f-eaa5bf299d32"
      },
      "source": [
        "dic_comp ={k: v for k, v in [(\"v1\", 1), (\"v2\", 2), (\"v3\", 3)]}\n",
        "dic_comp"
      ],
      "execution_count": null,
      "outputs": [
        {
          "output_type": "execute_result",
          "data": {
            "text/plain": [
              "{'v1': 1, 'v2': 2, 'v3': 3}"
            ]
          },
          "metadata": {
            "tags": []
          },
          "execution_count": 49
        }
      ]
    },
    {
      "cell_type": "markdown",
      "metadata": {
        "id": "TZHb1kYVSxlz",
        "colab_type": "text"
      },
      "source": [
        "Con un for loop:"
      ]
    },
    {
      "cell_type": "code",
      "metadata": {
        "id": "n6yJ4X3zSmzX",
        "colab_type": "code",
        "colab": {
          "base_uri": "https://localhost:8080/",
          "height": 34
        },
        "outputId": "05dedbce-be78-47c8-98c2-61eb4389de48"
      },
      "source": [
        "cuadrado = dict()\n",
        "for num in range(1, 11):\n",
        "    cuadrado[num] = num*num\n",
        "print(cuadrado)"
      ],
      "execution_count": 56,
      "outputs": [
        {
          "output_type": "stream",
          "text": [
            "{1: 1, 2: 4, 3: 9, 4: 16, 5: 25, 6: 36, 7: 49, 8: 64, 9: 81, 10: 100}\n"
          ],
          "name": "stdout"
        }
      ]
    },
    {
      "cell_type": "markdown",
      "metadata": {
        "id": "BV4hb4pxS53R",
        "colab_type": "text"
      },
      "source": [
        "Usando Dictionary Comprehension"
      ]
    },
    {
      "cell_type": "code",
      "metadata": {
        "id": "s-yJOur-S3aT",
        "colab_type": "code",
        "colab": {
          "base_uri": "https://localhost:8080/",
          "height": 34
        },
        "outputId": "d2294a0e-0701-4fc2-e0d8-8e7d67479acb"
      },
      "source": [
        "cuadrado = {num: num*num for num in range(1, 11)}\n",
        "print(cuadrado)"
      ],
      "execution_count": 57,
      "outputs": [
        {
          "output_type": "stream",
          "text": [
            "{1: 1, 2: 4, 3: 9, 4: 16, 5: 25, 6: 36, 7: 49, 8: 64, 9: 81, 10: 100}\n"
          ],
          "name": "stdout"
        }
      ]
    },
    {
      "cell_type": "markdown",
      "metadata": {
        "id": "_79LRuBbpJc2",
        "colab_type": "text"
      },
      "source": [
        "## Ejercicios \n",
        "\n",
        "1. Crear una lista con valores del 100 al 500 a intervaloes de 50\n"
      ]
    },
    {
      "cell_type": "code",
      "execution_count": null,
      "metadata": {},
      "outputs": [],
      "source": [
        "list(range(100, 500, 50))"
      ]
    },
    {
      "cell_type": "code",
      "metadata": {
        "id": "kQFdSs3vVm6I",
        "colab_type": "code",
        "colab": {}
      },
      "source": [
        "\n",
        "lista1 = []\n",
        "for a in range(50):\n",
        "    b = a / 2 + 10\n",
        "    lista1.append(b)"
      ],
      "execution_count": 99,
      "outputs": []
    },
    {
      "cell_type": "markdown",
      "metadata": {
        "id": "9XxijtrpTej6",
        "colab_type": "text"
      },
      "source": [
        "\n",
        "2. Convertir esa lista en un diccionario donde los valores sean los elementos de la lista y las llaves el texto 'pago_{i}' donde i es el indice del pago, ej. pago_1 = 100"
      ]
    },
    {
      "cell_type": "code",
      "metadata": {
        "id": "5gNh96dDTr-v",
        "colab_type": "code",
        "colab": {}
      },
      "source": [
        ""
      ],
      "execution_count": 99,
      "outputs": []
    },
    {
      "cell_type": "markdown",
      "metadata": {
        "id": "F28rZweXTrSw",
        "colab_type": "text"
      },
      "source": [
        "3. Sacar el valor actual de la lista considerandola una lista de pagos a intervalos regulares con una tasa de interes del 100%. El valor actual es la suma de los valores individuales descontados por el interes, cada pago se descuenta dividiendolo por (1 + tasa)^indice, por ej. 150 / ((1 + 1) ** 2). Recordar que los indices empiezan en 0"
      ]
    },
    {
      "cell_type": "code",
      "metadata": {
        "id": "WuOgOhIUTsby",
        "colab_type": "code",
        "colab": {}
      },
      "source": [
        ""
      ],
      "execution_count": 99,
      "outputs": []
    }
  ]
}